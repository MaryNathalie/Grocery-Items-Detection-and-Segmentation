{
 "cells": [
  {
   "cell_type": "markdown",
   "metadata": {},
   "source": [
    "COCO Converter"
   ]
  },
  {
   "cell_type": "code",
   "execution_count": 3,
   "metadata": {},
   "outputs": [
    {
     "name": "stderr",
     "output_type": "stream",
     "text": [
      "Annotations /raid/students/mary/mlops-exercises/ME6/dataset__v3/train/merged_instances_train.json: 100%|██████████| 9967/9967 [00:01<00:00, 7725.58it/s]"
     ]
    },
    {
     "name": "stdout",
     "output_type": "stream",
     "text": [
      "COCO data converted successfully.\n",
      "Results saved to /raid/students/mary/mlops-exercises/ME6/dataset__all/train/labels\n"
     ]
    },
    {
     "name": "stderr",
     "output_type": "stream",
     "text": [
      "\n"
     ]
    }
   ],
   "source": [
    "from ultralytics.data.converter import convert_coco\n",
    "\n",
    "# source = '/data/students/mary/mlops-exercises/ME6/__dump/json_files/sample'\n",
    "source = '/data/students/mary/mlops-exercises/ME6/dataset__v3/train'\n",
    "destination = '/data/students/mary/mlops-exercises/ME6/dataset__all/train/labels'\n",
    "\n",
    "convert_coco(\n",
    "    labels_dir=source,\n",
    "    save_dir=destination,\n",
    "    use_segments=True,\n",
    "    use_keypoints=False,\n",
    "    cls91to80=False,\n",
    "    lvis=False,\n",
    ")"
   ]
  },
  {
   "cell_type": "code",
   "execution_count": 4,
   "metadata": {},
   "outputs": [
    {
     "name": "stderr",
     "output_type": "stream",
     "text": [
      "Annotations /raid/students/mary/mlops-exercises/ME6/dataset__v3/val/merged_instances_val.json: 100%|██████████| 1118/1118 [00:00<00:00, 7621.95it/s]"
     ]
    },
    {
     "name": "stdout",
     "output_type": "stream",
     "text": [
      "COCO data converted successfully.\n",
      "Results saved to /raid/students/mary/mlops-exercises/ME6/dataset__all/val/labels\n"
     ]
    },
    {
     "name": "stderr",
     "output_type": "stream",
     "text": [
      "\n"
     ]
    }
   ],
   "source": [
    "source = '/data/students/mary/mlops-exercises/ME6/dataset__v3/val'\n",
    "destination = '/data/students/mary/mlops-exercises/ME6/dataset__all/val/labels'\n",
    "\n",
    "convert_coco(\n",
    "    labels_dir=source,\n",
    "    save_dir=destination,\n",
    "    use_segments=True,\n",
    "    use_keypoints=False,\n",
    "    cls91to80=False,\n",
    "    lvis=False,\n",
    ")"
   ]
  },
  {
   "cell_type": "markdown",
   "metadata": {},
   "source": [
    "Load and save images using CV2"
   ]
  },
  {
   "cell_type": "code",
   "execution_count": 1,
   "metadata": {},
   "outputs": [
    {
     "name": "stdout",
     "output_type": "stream",
     "text": [
      "Images have been processed and saved.\n"
     ]
    }
   ],
   "source": [
    "import cv2\n",
    "import os\n",
    "\n",
    "# Define the directory containing the images\n",
    "image_directory = '/data/students/mary/mlops-exercises/ME6/dataset__all/train/images'\n",
    "\n",
    "# Loop through each file in the directory\n",
    "for filename in os.listdir(image_directory):\n",
    "    if filename.endswith(('.png', '.jpg', '.jpeg', '.bmp', '.tiff')):\n",
    "        # Construct the full file path\n",
    "        file_path = os.path.join(image_directory, filename)\n",
    "        \n",
    "        # Load the image\n",
    "        image = cv2.imread(file_path)\n",
    "        \n",
    "        # Perform any processing on the image if needed\n",
    "        # For example, converting to grayscale:\n",
    "        # image = cv2.cvtColor(image, cv2.COLOR_BGR2GRAY)\n",
    "        \n",
    "        # Save the image back to the same path\n",
    "        cv2.imwrite(file_path, image)\n",
    "\n",
    "print(\"Images have been processed and saved.\")"
   ]
  },
  {
   "cell_type": "code",
   "execution_count": 2,
   "metadata": {},
   "outputs": [
    {
     "name": "stdout",
     "output_type": "stream",
     "text": [
      "Images have been processed and saved.\n"
     ]
    }
   ],
   "source": [
    "import cv2\n",
    "import os\n",
    "\n",
    "# Define the directory containing the images\n",
    "image_directory = '/data/students/mary/mlops-exercises/ME6/dataset__all/val/images'\n",
    "\n",
    "# Loop through each file in the directory\n",
    "for filename in os.listdir(image_directory):\n",
    "    if filename.endswith(('.png', '.jpg', '.jpeg', '.bmp', '.tiff')):\n",
    "        # Construct the full file path\n",
    "        file_path = os.path.join(image_directory, filename)\n",
    "        \n",
    "        # Load the image\n",
    "        image = cv2.imread(file_path)\n",
    "        \n",
    "        # Perform any processing on the image if needed\n",
    "        # For example, converting to grayscale:\n",
    "        # image = cv2.cvtColor(image, cv2.COLOR_BGR2GRAY)\n",
    "        \n",
    "        # Save the image back to the same path\n",
    "        cv2.imwrite(file_path, image)\n",
    "\n",
    "print(\"Images have been processed and saved.\")"
   ]
  },
  {
   "cell_type": "markdown",
   "metadata": {},
   "source": [
    "Normalize Coordinates"
   ]
  },
  {
   "cell_type": "code",
   "execution_count": 1,
   "metadata": {},
   "outputs": [],
   "source": [
    "import os\n",
    "import glob\n",
    "\n",
    "def normalize_coordinates(coords):\n",
    "    normalized_coords = []\n",
    "    for coord in coords:\n",
    "        if coord < 0:\n",
    "            normalized_coords.append(0)\n",
    "        elif coord > 1:\n",
    "            normalized_coords.append(1)\n",
    "        else:\n",
    "            normalized_coords.append(coord)\n",
    "    return normalized_coords\n",
    "\n",
    "def validate_and_clean_label_file(label_file):\n",
    "    with open(label_file, 'r') as file:\n",
    "        lines = file.readlines()\n",
    "\n",
    "    cleaned_lines = []\n",
    "    for line in lines:\n",
    "        parts = line.strip().split()\n",
    "        class_id = parts[0]\n",
    "        coords = list(map(float, parts[1:]))\n",
    "\n",
    "        # Normalize coordinates\n",
    "        normalized_coords = normalize_coordinates(coords)\n",
    "        cleaned_line = f\"{class_id} {' '.join(map(str, normalized_coords))}\\n\"\n",
    "        cleaned_lines.append(cleaned_line)\n",
    "\n",
    "    # Remove duplicate lines\n",
    "    unique_lines = list(set(cleaned_lines))\n",
    "\n",
    "    with open(label_file, 'w') as file:\n",
    "        file.writelines(unique_lines)\n",
    "\n",
    "def clean_dataset_labels(label_dir):\n",
    "    label_files = glob.glob(os.path.join(label_dir, '*.txt'))\n",
    "    for label_file in label_files:\n",
    "        validate_and_clean_label_file(label_file)"
   ]
  },
  {
   "cell_type": "code",
   "execution_count": 2,
   "metadata": {},
   "outputs": [],
   "source": [
    "# Example usage\n",
    "label_dir = '/data/students/mary/mlops-exercises/ME6/dataset__all/train/labels'\n",
    "clean_dataset_labels(label_dir)"
   ]
  },
  {
   "cell_type": "code",
   "execution_count": 3,
   "metadata": {},
   "outputs": [],
   "source": [
    "# Example usage\n",
    "label_dir = '/data/students/mary/mlops-exercises/ME6/dataset__all/val/labels'\n",
    "clean_dataset_labels(label_dir)"
   ]
  }
 ],
 "metadata": {
  "kernelspec": {
   "display_name": "AI231_ME6",
   "language": "python",
   "name": "python3"
  },
  "language_info": {
   "codemirror_mode": {
    "name": "ipython",
    "version": 3
   },
   "file_extension": ".py",
   "mimetype": "text/x-python",
   "name": "python",
   "nbconvert_exporter": "python",
   "pygments_lexer": "ipython3",
   "version": "3.11.10"
  }
 },
 "nbformat": 4,
 "nbformat_minor": 2
}
