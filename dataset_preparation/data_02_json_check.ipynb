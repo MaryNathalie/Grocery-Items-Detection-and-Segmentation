{
 "cells": [
  {
   "cell_type": "code",
   "execution_count": 17,
   "metadata": {},
   "outputs": [
    {
     "name": "stdout",
     "output_type": "stream",
     "text": [
      "Using device: cuda\n",
      "Number of GPUs: 1\n",
      "GPU name: NVIDIA A100-SXM4-40GB\n",
      "PyTorch version: 2.5.1+cu121\n"
     ]
    }
   ],
   "source": [
    "import os\n",
    "import torch\n",
    "\n",
    "# Setting up the environment to use only GPU 2\n",
    "os.environ[\"CUDA_DEVICE_ORDER\"] = \"PCI_BUS_ID\"\n",
    "os.environ[\"CUDA_VISIBLE_DEVICES\"] = \"2\"\n",
    "\n",
    "# Check if GPU is available\n",
    "device = torch.device(\"cuda\" if torch.cuda.is_available() else \"cpu\")\n",
    "print(f\"Using device: {device}\")\n",
    "\n",
    "# Check number of GPUs\n",
    "print(f\"Number of GPUs: {torch.cuda.device_count()}\")\n",
    "\n",
    "# Check GPU name\n",
    "print(f\"GPU name: {torch.cuda.get_device_name()}\")\n",
    "\n",
    "# Check PyTorch version\n",
    "print(f\"PyTorch version: {torch.__version__}\")"
   ]
  },
  {
   "cell_type": "code",
   "execution_count": 18,
   "metadata": {},
   "outputs": [
    {
     "name": "stdout",
     "output_type": "stream",
     "text": [
      "Mon Dec  2 16:16:32 2024       \n",
      "+---------------------------------------------------------------------------------------+\n",
      "| NVIDIA-SMI 535.154.05             Driver Version: 535.154.05   CUDA Version: 12.2     |\n",
      "|-----------------------------------------+----------------------+----------------------+\n",
      "| GPU  Name                 Persistence-M | Bus-Id        Disp.A | Volatile Uncorr. ECC |\n",
      "| Fan  Temp   Perf          Pwr:Usage/Cap |         Memory-Usage | GPU-Util  Compute M. |\n",
      "|                                         |                      |               MIG M. |\n",
      "|=========================================+======================+======================|\n",
      "|   0  NVIDIA A100-SXM4-40GB          On  | 00000000:07:00.0 Off |                    0 |\n",
      "| N/A   36C    P0             176W / 400W |  16910MiB / 40960MiB |     97%      Default |\n",
      "|                                         |                      |             Disabled |\n",
      "+-----------------------------------------+----------------------+----------------------+\n",
      "|   1  NVIDIA A100-SXM4-40GB          On  | 00000000:0F:00.0 Off |                    0 |\n",
      "| N/A   29C    P0             128W / 400W |   3404MiB / 40960MiB |    100%      Default |\n",
      "|                                         |                      |             Disabled |\n",
      "+-----------------------------------------+----------------------+----------------------+\n",
      "|   2  NVIDIA A100-SXM4-40GB          On  | 00000000:47:00.0 Off |                    0 |\n",
      "| N/A   30C    P0             127W / 400W |   3390MiB / 40960MiB |    100%      Default |\n",
      "|                                         |                      |             Disabled |\n",
      "+-----------------------------------------+----------------------+----------------------+\n",
      "|   3  NVIDIA A100-SXM4-40GB          On  | 00000000:4E:00.0 Off |                    0 |\n",
      "| N/A   29C    P0             122W / 400W |  15418MiB / 40960MiB |    100%      Default |\n",
      "|                                         |                      |             Disabled |\n",
      "+-----------------------------------------+----------------------+----------------------+\n",
      "|   4  NVIDIA A100-SXM4-40GB          On  | 00000000:87:00.0 Off |                    0 |\n",
      "| N/A   58C    P0             321W / 400W |  11002MiB / 40960MiB |     75%      Default |\n",
      "|                                         |                      |             Disabled |\n",
      "+-----------------------------------------+----------------------+----------------------+\n",
      "|   5  NVIDIA A100-SXM4-40GB          On  | 00000000:90:00.0 Off |                    0 |\n",
      "| N/A   54C    P0             302W / 400W |  21188MiB / 40960MiB |     87%      Default |\n",
      "|                                         |                      |             Disabled |\n",
      "+-----------------------------------------+----------------------+----------------------+\n",
      "|   6  NVIDIA A100-SXM4-40GB          On  | 00000000:B7:00.0 Off |                    0 |\n",
      "| N/A   40C    P0             156W / 400W |   6558MiB / 40960MiB |    100%      Default |\n",
      "|                                         |                      |             Disabled |\n",
      "+-----------------------------------------+----------------------+----------------------+\n",
      "|   7  NVIDIA A100-SXM4-40GB          On  | 00000000:BD:00.0 Off |                    0 |\n",
      "| N/A   37C    P0             147W / 400W |   7852MiB / 40960MiB |    100%      Default |\n",
      "|                                         |                      |             Disabled |\n",
      "+-----------------------------------------+----------------------+----------------------+\n",
      "                                                                                         \n",
      "+---------------------------------------------------------------------------------------+\n",
      "| Processes:                                                                            |\n",
      "|  GPU   GI   CI        PID   Type   Process name                            GPU Memory |\n",
      "|        ID   ID                                                             Usage      |\n",
      "|=======================================================================================|\n",
      "|    0   N/A  N/A     60329      C   ...eph/anaconda3/envs/myenv/bin/python      612MiB |\n",
      "|    0   N/A  N/A   1214090      C   python                                     3720MiB |\n",
      "|    0   N/A  N/A   1321765      C   ...uel/anaconda3/envs/ai231/bin/python    12786MiB |\n",
      "|    1   N/A  N/A   1264139      C   ...uel/anaconda3/envs/ai231/bin/python     3394MiB |\n",
      "|    2   N/A  N/A   1264140      C   ...uel/anaconda3/envs/ai231/bin/python     3382MiB |\n",
      "|    3   N/A  N/A   1264141      C   ...uel/anaconda3/envs/ai231/bin/python     3382MiB |\n",
      "|    3   N/A  N/A   1352627      C   python                                     5164MiB |\n",
      "|    3   N/A  N/A   1354821      C   python                                     6838MiB |\n",
      "|    4   N/A  N/A   4190240      C   ...naconda3/envs/ai231-venv/bin/python    10690MiB |\n",
      "|    5   N/A  N/A    459826      C   ...anaconda3/envs/class_env/bin/python    20886MiB |\n",
      "|    6   N/A  N/A      9215      C   ...anaconda3/envs/class_env/bin/python     3140MiB |\n",
      "|    6   N/A  N/A   1264144      C   ...uel/anaconda3/envs/ai231/bin/python     3394MiB |\n",
      "|    7   N/A  N/A     60329      C   ...eph/anaconda3/envs/myenv/bin/python     4596MiB |\n",
      "|    7   N/A  N/A   1264145      C   ...uel/anaconda3/envs/ai231/bin/python     3236MiB |\n",
      "+---------------------------------------------------------------------------------------+\n"
     ]
    }
   ],
   "source": [
    "!nvidia-smi"
   ]
  },
  {
   "cell_type": "code",
   "execution_count": 19,
   "metadata": {},
   "outputs": [
    {
     "name": "stdout",
     "output_type": "stream",
     "text": [
      "pid, process_name, used_gpu_memory [MiB]\n",
      "60329, /data/students/joseph/anaconda3/envs/myenv/bin/python, 612 MiB\n",
      "1214090, python, 3720 MiB\n",
      "1321765, /data/students/miguel/anaconda3/envs/ai231/bin/python, 12786 MiB\n",
      "1264139, /data/students/miguel/anaconda3/envs/ai231/bin/python, 3394 MiB\n",
      "1264140, /data/students/miguel/anaconda3/envs/ai231/bin/python, 3382 MiB\n",
      "1264141, /data/students/miguel/anaconda3/envs/ai231/bin/python, 3382 MiB\n",
      "1352627, python, 5164 MiB\n",
      "1354821, python, 6838 MiB\n",
      "4190240, /data/students/ryan/anaconda3/envs/ai231-venv/bin/python, 10690 MiB\n",
      "459826, /data/students/joshua/anaconda3/envs/class_env/bin/python, 20886 MiB\n",
      "9215, /data/students/joshua/anaconda3/envs/class_env/bin/python, 3140 MiB\n",
      "1264144, /data/students/miguel/anaconda3/envs/ai231/bin/python, 3394 MiB\n",
      "60329, /data/students/joseph/anaconda3/envs/myenv/bin/python, 4596 MiB\n",
      "1264145, /data/students/miguel/anaconda3/envs/ai231/bin/python, 3236 MiB\n",
      "\n"
     ]
    }
   ],
   "source": [
    "import subprocess\n",
    "\n",
    "# Run the nvidia-smi command and capture the output\n",
    "result = subprocess.run(['nvidia-smi', '--query-compute-apps=pid,process_name,used_memory', '--format=csv'], stdout=subprocess.PIPE)\n",
    "\n",
    "# Decode the output to a string\n",
    "output = result.stdout.decode('utf-8')\n",
    "\n",
    "# Print the output\n",
    "print(output)"
   ]
  },
  {
   "cell_type": "markdown",
   "metadata": {},
   "source": [
    "V3 Train"
   ]
  },
  {
   "cell_type": "code",
   "execution_count": 20,
   "metadata": {},
   "outputs": [
    {
     "data": {
      "text/plain": [
       "dict_keys(['images', 'categories', 'annotations'])"
      ]
     },
     "execution_count": 20,
     "metadata": {},
     "output_type": "execute_result"
    }
   ],
   "source": [
    "# Load JSON Data\n",
    "import json\n",
    "\n",
    "filename = f'/data/students/mary/mlops-exercises/ME6/dataset/json_files/v3_instances_train.json'\n",
    "# Load JSON data from a file\n",
    "with open(filename, 'r') as file:\n",
    "    v3_data = json.load(file)\n",
    "\n",
    "v3_data.keys()"
   ]
  },
  {
   "cell_type": "code",
   "execution_count": 21,
   "metadata": {},
   "outputs": [
    {
     "name": "stdout",
     "output_type": "stream",
     "text": [
      "Number of images: 2460\n",
      "Number of annotations: 6454\n",
      "Number of categories: 24\n"
     ]
    }
   ],
   "source": [
    "print(f\"Number of images: {len(v3_data['images'])}\")\n",
    "print(f\"Number of annotations: {len(v3_data['annotations'])}\")\n",
    "print(f\"Number of categories: {len(v3_data['categories'])}\")"
   ]
  },
  {
   "cell_type": "code",
   "execution_count": 22,
   "metadata": {},
   "outputs": [
    {
     "data": {
      "text/plain": [
       "{'id': 16975,\n",
       " 'dataset_id': 9,\n",
       " 'category_ids': [],\n",
       " 'path': 'images/train/050351.jpg',\n",
       " 'width': 640,\n",
       " 'height': 480,\n",
       " 'file_name': '050351.jpg',\n",
       " 'annotated': False,\n",
       " 'annotating': [],\n",
       " 'num_annotations': 0,\n",
       " 'metadata': {},\n",
       " 'deleted': False,\n",
       " 'milliseconds': 0,\n",
       " 'events': [],\n",
       " 'regenerate_thumbnail': False}"
      ]
     },
     "execution_count": 22,
     "metadata": {},
     "output_type": "execute_result"
    }
   ],
   "source": [
    "v3_data['images'][0]"
   ]
  },
  {
   "cell_type": "code",
   "execution_count": 23,
   "metadata": {},
   "outputs": [
    {
     "data": {
      "text/plain": [
       "{'id': 25849,\n",
       " 'image_id': 16975,\n",
       " 'category_id': 5,\n",
       " 'segmentation': [[409.6,\n",
       "   416.7,\n",
       "   415.4,\n",
       "   449.2,\n",
       "   407.1,\n",
       "   455.7,\n",
       "   392.1,\n",
       "   455.8,\n",
       "   387.7,\n",
       "   453.9,\n",
       "   384.9,\n",
       "   452.0,\n",
       "   380.1,\n",
       "   417.6,\n",
       "   391.0,\n",
       "   411.7,\n",
       "   403.6,\n",
       "   411.2,\n",
       "   407.8,\n",
       "   413.1]],\n",
       " 'area': 1254,\n",
       " 'bbox': [380.0, 411.0, 35.0, 45.0],\n",
       " 'iscrowd': False,\n",
       " 'isbbox': False,\n",
       " 'color': '#a8fc5c',\n",
       " 'metadata': {}}"
      ]
     },
     "execution_count": 23,
     "metadata": {},
     "output_type": "execute_result"
    }
   ],
   "source": [
    "v3_data['annotations'][0]"
   ]
  },
  {
   "cell_type": "code",
   "execution_count": 24,
   "metadata": {},
   "outputs": [
    {
     "name": "stdout",
     "output_type": "stream",
     "text": [
      "ID: 1, Category: Coke Zero Bottled, Supercategory: Bottled Soda\n",
      "ID: 2, Category: Eden Cheese, Supercategory: Cheese\n",
      "ID: 3, Category: KitKat, Supercategory: Chocolate\n",
      "ID: 4, Category: Nescafe 3-in-1 Twin Pack, Supercategory: Coffee\n",
      "ID: 5, Category: Alaska Classic 377g Can, Supercategory: Condensed Milk\n",
      "ID: 6, Category: Simply Pure Canola Oil, Supercategory: Cooking oil\n",
      "ID: 7, Category: Purefoods Corned Beef, Supercategory: Corned Beef\n",
      "ID: 8, Category: Whole Bulb of Garlic, Supercategory: Garlic\n",
      "ID: 9, Category: Lucky Me Pansit Canton, Supercategory: Instant Noodles\n",
      "ID: 10, Category: UFC Banana Ketchup, Supercategory: Ketchup\n",
      "ID: 11, Category: Whole Lemon, Supercategory: Lemon\n",
      "ID: 12, Category: Nestle All Purpose Cream 250ml, Supercategory: All Purpose Cream\n",
      "ID: 13, Category: Lady's Choice Real Mayonnaise 220 ml jar, Supercategory: Mayonnaise\n",
      "ID: 14, Category: Skippy Peanut Butter, Supercategory: Peanut Butter\n",
      "ID: 15, Category: Royal Pasta, Supercategory: Pasta\n",
      "ID: 16, Category: Del Monte Pineapple Juice, Supercategory: Pineapple Juice Can\n",
      "ID: 17, Category: Rebisco Crackers, Supercategory: Crackers\n",
      "ID: 18, Category: 555 Sardines, Supercategory: Canned Goods\n",
      "ID: 19, Category: Sunsilk Shampoo, Supercategory: Bottled Shampoo\n",
      "ID: 20, Category: Dove Lavender Soap, Supercategory: Box of Soap\n",
      "ID: 21, Category: Silver Swan Soy Sauce - 385 mL, Supercategory: Soy Sauce\n",
      "ID: 22, Category: Colgate (Advanced White) Value Pack (2 Tubes), Supercategory: Box of Toothpaste\n",
      "ID: 23, Category: Century Tuna, Supercategory: Canned Goods\n",
      "ID: 24, Category: GreenCross Alcohol, Supercategory: Ethyl Alcohol\n"
     ]
    }
   ],
   "source": [
    "v3_categories = v3_data['categories']\n",
    "\n",
    "# Sort categories by id\n",
    "sorted_categories = sorted(v3_categories, key=lambda x: x['id'])\n",
    "\n",
    "# Print sorted categories\n",
    "for category in sorted_categories:\n",
    "    print(f\"ID: {category['id']}, Category: {category['name']}, Supercategory: {category['supercategory']}\")"
   ]
  }
 ],
 "metadata": {
  "kernelspec": {
   "display_name": "AI231_ME6",
   "language": "python",
   "name": "python3"
  },
  "language_info": {
   "codemirror_mode": {
    "name": "ipython",
    "version": 3
   },
   "file_extension": ".py",
   "mimetype": "text/x-python",
   "name": "python",
   "nbconvert_exporter": "python",
   "pygments_lexer": "ipython3",
   "version": "3.11.10"
  }
 },
 "nbformat": 4,
 "nbformat_minor": 2
}
