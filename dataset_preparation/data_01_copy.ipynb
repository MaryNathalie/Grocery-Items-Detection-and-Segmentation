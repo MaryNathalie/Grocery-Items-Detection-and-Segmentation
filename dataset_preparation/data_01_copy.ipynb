{
 "cells": [
  {
   "cell_type": "markdown",
   "metadata": {},
   "source": [
    "/data/detection/grocery/dataset_v3/images  \n",
    "/data/detection/grocery/dataset_v3/annotations"
   ]
  },
  {
   "cell_type": "code",
   "execution_count": 2,
   "metadata": {},
   "outputs": [],
   "source": [
    "import os\n",
    "import shutil"
   ]
  },
  {
   "cell_type": "markdown",
   "metadata": {},
   "source": [
    "Copy v2 and v3 images"
   ]
  },
  {
   "cell_type": "code",
   "execution_count": 6,
   "metadata": {},
   "outputs": [
    {
     "name": "stdout",
     "output_type": "stream",
     "text": [
      "Permission denied: /data/detection/grocery/dataset_v3/images/train/030396.jpg - [Errno 13] Permission denied: '/data/detection/grocery/dataset_v3/images/train/030396.jpg'\n",
      "Permission denied: /data/detection/grocery/dataset_v3/images/train/030365.jpg - [Errno 13] Permission denied: '/data/detection/grocery/dataset_v3/images/train/030365.jpg'\n",
      "Permission denied: /data/detection/grocery/dataset_v3/images/train/030487.jpg - [Errno 13] Permission denied: '/data/detection/grocery/dataset_v3/images/train/030487.jpg'\n",
      "Permission denied: /data/detection/grocery/dataset_v3/images/train/030505.jpg - [Errno 13] Permission denied: '/data/detection/grocery/dataset_v3/images/train/030505.jpg'\n",
      "Permission denied: /data/detection/grocery/dataset_v3/images/train/030369.jpg - [Errno 13] Permission denied: '/data/detection/grocery/dataset_v3/images/train/030369.jpg'\n",
      "Permission denied: /data/detection/grocery/dataset_v3/images/train/030460.jpg - [Errno 13] Permission denied: '/data/detection/grocery/dataset_v3/images/train/030460.jpg'\n",
      "Permission denied: /data/detection/grocery/dataset_v3/images/train/030358.jpg - [Errno 13] Permission denied: '/data/detection/grocery/dataset_v3/images/train/030358.jpg'\n",
      "Permission denied: /data/detection/grocery/dataset_v3/images/train/030427.jpg - [Errno 13] Permission denied: '/data/detection/grocery/dataset_v3/images/train/030427.jpg'\n",
      "Permission denied: /data/detection/grocery/dataset_v3/images/train/030428.jpg - [Errno 13] Permission denied: '/data/detection/grocery/dataset_v3/images/train/030428.jpg'\n",
      "Permission denied: /data/detection/grocery/dataset_v3/images/train/030477.jpg - [Errno 13] Permission denied: '/data/detection/grocery/dataset_v3/images/train/030477.jpg'\n",
      "Permission denied: /data/detection/grocery/dataset_v3/images/train/030464.jpg - [Errno 13] Permission denied: '/data/detection/grocery/dataset_v3/images/train/030464.jpg'\n",
      "Permission denied: /data/detection/grocery/dataset_v3/images/train/030403.jpg - [Errno 13] Permission denied: '/data/detection/grocery/dataset_v3/images/train/030403.jpg'\n",
      "Permission denied: /data/detection/grocery/dataset_v3/images/train/030366.jpg - [Errno 13] Permission denied: '/data/detection/grocery/dataset_v3/images/train/030366.jpg'\n",
      "Permission denied: /data/detection/grocery/dataset_v3/images/train/030446.jpg - [Errno 13] Permission denied: '/data/detection/grocery/dataset_v3/images/train/030446.jpg'\n",
      "Permission denied: /data/detection/grocery/dataset_v3/images/train/030379.jpg - [Errno 13] Permission denied: '/data/detection/grocery/dataset_v3/images/train/030379.jpg'\n",
      "Permission denied: /data/detection/grocery/dataset_v3/images/train/030377.jpg - [Errno 13] Permission denied: '/data/detection/grocery/dataset_v3/images/train/030377.jpg'\n",
      "Permission denied: /data/detection/grocery/dataset_v3/images/train/030435.jpg - [Errno 13] Permission denied: '/data/detection/grocery/dataset_v3/images/train/030435.jpg'\n",
      "Permission denied: /data/detection/grocery/dataset_v3/images/train/030424.jpg - [Errno 13] Permission denied: '/data/detection/grocery/dataset_v3/images/train/030424.jpg'\n",
      "Permission denied: /data/detection/grocery/dataset_v3/images/train/030352.jpg - [Errno 13] Permission denied: '/data/detection/grocery/dataset_v3/images/train/030352.jpg'\n",
      "Permission denied: /data/detection/grocery/dataset_v3/images/train/030381.jpg - [Errno 13] Permission denied: '/data/detection/grocery/dataset_v3/images/train/030381.jpg'\n",
      "Permission denied: /data/detection/grocery/dataset_v3/images/train/030476.jpg - [Errno 13] Permission denied: '/data/detection/grocery/dataset_v3/images/train/030476.jpg'\n",
      "Permission denied: /data/detection/grocery/dataset_v3/images/train/030362.jpg - [Errno 13] Permission denied: '/data/detection/grocery/dataset_v3/images/train/030362.jpg'\n",
      "Permission denied: /data/detection/grocery/dataset_v3/images/train/030498.jpg - [Errno 13] Permission denied: '/data/detection/grocery/dataset_v3/images/train/030498.jpg'\n",
      "Permission denied: /data/detection/grocery/dataset_v3/images/train/030382.jpg - [Errno 13] Permission denied: '/data/detection/grocery/dataset_v3/images/train/030382.jpg'\n",
      "Permission denied: /data/detection/grocery/dataset_v3/images/train/030449.jpg - [Errno 13] Permission denied: '/data/detection/grocery/dataset_v3/images/train/030449.jpg'\n",
      "Permission denied: /data/detection/grocery/dataset_v3/images/train/030376.jpg - [Errno 13] Permission denied: '/data/detection/grocery/dataset_v3/images/train/030376.jpg'\n",
      "Permission denied: /data/detection/grocery/dataset_v3/images/train/030380.jpg - [Errno 13] Permission denied: '/data/detection/grocery/dataset_v3/images/train/030380.jpg'\n",
      "Permission denied: /data/detection/grocery/dataset_v3/images/train/030359.jpg - [Errno 13] Permission denied: '/data/detection/grocery/dataset_v3/images/train/030359.jpg'\n",
      "Permission denied: /data/detection/grocery/dataset_v3/images/train/030386.jpg - [Errno 13] Permission denied: '/data/detection/grocery/dataset_v3/images/train/030386.jpg'\n",
      "Permission denied: /data/detection/grocery/dataset_v3/images/train/030434.jpg - [Errno 13] Permission denied: '/data/detection/grocery/dataset_v3/images/train/030434.jpg'\n",
      "Permission denied: /data/detection/grocery/dataset_v3/images/train/030391.jpg - [Errno 13] Permission denied: '/data/detection/grocery/dataset_v3/images/train/030391.jpg'\n",
      "Permission denied: /data/detection/grocery/dataset_v3/images/train/030356.jpg - [Errno 13] Permission denied: '/data/detection/grocery/dataset_v3/images/train/030356.jpg'\n",
      "Permission denied: /data/detection/grocery/dataset_v3/images/train/030467.jpg - [Errno 13] Permission denied: '/data/detection/grocery/dataset_v3/images/train/030467.jpg'\n",
      "Permission denied: /data/detection/grocery/dataset_v3/images/train/030481.jpg - [Errno 13] Permission denied: '/data/detection/grocery/dataset_v3/images/train/030481.jpg'\n",
      "Permission denied: /data/detection/grocery/dataset_v3/images/train/030370.jpg - [Errno 13] Permission denied: '/data/detection/grocery/dataset_v3/images/train/030370.jpg'\n",
      "Permission denied: /data/detection/grocery/dataset_v3/images/train/030378.jpg - [Errno 13] Permission denied: '/data/detection/grocery/dataset_v3/images/train/030378.jpg'\n",
      "Permission denied: /data/detection/grocery/dataset_v3/images/train/030486.jpg - [Errno 13] Permission denied: '/data/detection/grocery/dataset_v3/images/train/030486.jpg'\n",
      "Permission denied: /data/detection/grocery/dataset_v3/images/train/030368.jpg - [Errno 13] Permission denied: '/data/detection/grocery/dataset_v3/images/train/030368.jpg'\n",
      "Permission denied: /data/detection/grocery/dataset_v3/images/train/030465.jpg - [Errno 13] Permission denied: '/data/detection/grocery/dataset_v3/images/train/030465.jpg'\n",
      "Permission denied: /data/detection/grocery/dataset_v3/images/train/030409.jpg - [Errno 13] Permission denied: '/data/detection/grocery/dataset_v3/images/train/030409.jpg'\n",
      "Permission denied: /data/detection/grocery/dataset_v3/images/train/030412.jpg - [Errno 13] Permission denied: '/data/detection/grocery/dataset_v3/images/train/030412.jpg'\n",
      "Permission denied: /data/detection/grocery/dataset_v3/images/train/030463.jpg - [Errno 13] Permission denied: '/data/detection/grocery/dataset_v3/images/train/030463.jpg'\n",
      "Permission denied: /data/detection/grocery/dataset_v3/images/train/030351.jpg - [Errno 13] Permission denied: '/data/detection/grocery/dataset_v3/images/train/030351.jpg'\n",
      "Permission denied: /data/detection/grocery/dataset_v3/images/train/030375.jpg - [Errno 13] Permission denied: '/data/detection/grocery/dataset_v3/images/train/030375.jpg'\n",
      "Permission denied: /data/detection/grocery/dataset_v3/images/train/030436.jpg - [Errno 13] Permission denied: '/data/detection/grocery/dataset_v3/images/train/030436.jpg'\n",
      "Permission denied: /data/detection/grocery/dataset_v3/images/train/030461.jpg - [Errno 13] Permission denied: '/data/detection/grocery/dataset_v3/images/train/030461.jpg'\n",
      "Permission denied: /data/detection/grocery/dataset_v3/images/train/030420.jpg - [Errno 13] Permission denied: '/data/detection/grocery/dataset_v3/images/train/030420.jpg'\n",
      "Permission denied: /data/detection/grocery/dataset_v3/images/train/030411.jpg - [Errno 13] Permission denied: '/data/detection/grocery/dataset_v3/images/train/030411.jpg'\n",
      "Permission denied: /data/detection/grocery/dataset_v3/images/train/030454.jpg - [Errno 13] Permission denied: '/data/detection/grocery/dataset_v3/images/train/030454.jpg'\n",
      "Permission denied: /data/detection/grocery/dataset_v3/images/train/030499.jpg - [Errno 13] Permission denied: '/data/detection/grocery/dataset_v3/images/train/030499.jpg'\n",
      "Permission denied: /data/detection/grocery/dataset_v3/images/train/030493.jpg - [Errno 13] Permission denied: '/data/detection/grocery/dataset_v3/images/train/030493.jpg'\n",
      "Permission denied: /data/detection/grocery/dataset_v3/images/train/030415.jpg - [Errno 13] Permission denied: '/data/detection/grocery/dataset_v3/images/train/030415.jpg'\n",
      "Permission denied: /data/detection/grocery/dataset_v3/images/train/030407.jpg - [Errno 13] Permission denied: '/data/detection/grocery/dataset_v3/images/train/030407.jpg'\n",
      "Permission denied: /data/detection/grocery/dataset_v3/images/train/030422.jpg - [Errno 13] Permission denied: '/data/detection/grocery/dataset_v3/images/train/030422.jpg'\n",
      "Permission denied: /data/detection/grocery/dataset_v3/images/train/030408.jpg - [Errno 13] Permission denied: '/data/detection/grocery/dataset_v3/images/train/030408.jpg'\n",
      "Permission denied: /data/detection/grocery/dataset_v3/images/train/030394.jpg - [Errno 13] Permission denied: '/data/detection/grocery/dataset_v3/images/train/030394.jpg'\n",
      "Permission denied: /data/detection/grocery/dataset_v3/images/train/030432.jpg - [Errno 13] Permission denied: '/data/detection/grocery/dataset_v3/images/train/030432.jpg'\n",
      "Permission denied: /data/detection/grocery/dataset_v3/images/train/030478.jpg - [Errno 13] Permission denied: '/data/detection/grocery/dataset_v3/images/train/030478.jpg'\n",
      "Permission denied: /data/detection/grocery/dataset_v3/images/train/030402.jpg - [Errno 13] Permission denied: '/data/detection/grocery/dataset_v3/images/train/030402.jpg'\n",
      "Permission denied: /data/detection/grocery/dataset_v3/images/train/030367.jpg - [Errno 13] Permission denied: '/data/detection/grocery/dataset_v3/images/train/030367.jpg'\n",
      "Permission denied: /data/detection/grocery/dataset_v3/images/train/030371.jpg - [Errno 13] Permission denied: '/data/detection/grocery/dataset_v3/images/train/030371.jpg'\n",
      "Permission denied: /data/detection/grocery/dataset_v3/images/train/030406.jpg - [Errno 13] Permission denied: '/data/detection/grocery/dataset_v3/images/train/030406.jpg'\n",
      "Permission denied: /data/detection/grocery/dataset_v3/images/train/030507.jpg - [Errno 13] Permission denied: '/data/detection/grocery/dataset_v3/images/train/030507.jpg'\n",
      "Permission denied: /data/detection/grocery/dataset_v3/images/train/030473.jpg - [Errno 13] Permission denied: '/data/detection/grocery/dataset_v3/images/train/030473.jpg'\n",
      "Permission denied: /data/detection/grocery/dataset_v3/images/train/030383.jpg - [Errno 13] Permission denied: '/data/detection/grocery/dataset_v3/images/train/030383.jpg'\n",
      "Permission denied: /data/detection/grocery/dataset_v3/images/train/030372.jpg - [Errno 13] Permission denied: '/data/detection/grocery/dataset_v3/images/train/030372.jpg'\n",
      "Permission denied: /data/detection/grocery/dataset_v3/images/train/030417.jpg - [Errno 13] Permission denied: '/data/detection/grocery/dataset_v3/images/train/030417.jpg'\n",
      "Permission denied: /data/detection/grocery/dataset_v3/images/train/030355.jpg - [Errno 13] Permission denied: '/data/detection/grocery/dataset_v3/images/train/030355.jpg'\n",
      "Permission denied: /data/detection/grocery/dataset_v3/images/train/030433.jpg - [Errno 13] Permission denied: '/data/detection/grocery/dataset_v3/images/train/030433.jpg'\n",
      "Permission denied: /data/detection/grocery/dataset_v3/images/train/030445.jpg - [Errno 13] Permission denied: '/data/detection/grocery/dataset_v3/images/train/030445.jpg'\n",
      "Permission denied: /data/detection/grocery/dataset_v3/images/train/030401.jpg - [Errno 13] Permission denied: '/data/detection/grocery/dataset_v3/images/train/030401.jpg'\n",
      "Permission denied: /data/detection/grocery/dataset_v3/images/train/030439.jpg - [Errno 13] Permission denied: '/data/detection/grocery/dataset_v3/images/train/030439.jpg'\n",
      "Permission denied: /data/detection/grocery/dataset_v3/images/train/030489.jpg - [Errno 13] Permission denied: '/data/detection/grocery/dataset_v3/images/train/030489.jpg'\n",
      "Permission denied: /data/detection/grocery/dataset_v3/images/train/030363.jpg - [Errno 13] Permission denied: '/data/detection/grocery/dataset_v3/images/train/030363.jpg'\n",
      "Permission denied: /data/detection/grocery/dataset_v3/images/train/030491.jpg - [Errno 13] Permission denied: '/data/detection/grocery/dataset_v3/images/train/030491.jpg'\n",
      "Permission denied: /data/detection/grocery/dataset_v3/images/train/030390.jpg - [Errno 13] Permission denied: '/data/detection/grocery/dataset_v3/images/train/030390.jpg'\n",
      "Permission denied: /data/detection/grocery/dataset_v3/images/train/030357.jpg - [Errno 13] Permission denied: '/data/detection/grocery/dataset_v3/images/train/030357.jpg'\n",
      "Permission denied: /data/detection/grocery/dataset_v3/images/train/030462.jpg - [Errno 13] Permission denied: '/data/detection/grocery/dataset_v3/images/train/030462.jpg'\n",
      "Permission denied: /data/detection/grocery/dataset_v3/images/train/030506.jpg - [Errno 13] Permission denied: '/data/detection/grocery/dataset_v3/images/train/030506.jpg'\n",
      "Permission denied: /data/detection/grocery/dataset_v3/images/train/030431.jpg - [Errno 13] Permission denied: '/data/detection/grocery/dataset_v3/images/train/030431.jpg'\n",
      "Permission denied: /data/detection/grocery/dataset_v3/images/train/030392.jpg - [Errno 13] Permission denied: '/data/detection/grocery/dataset_v3/images/train/030392.jpg'\n",
      "Permission denied: /data/detection/grocery/dataset_v3/images/train/030475.jpg - [Errno 13] Permission denied: '/data/detection/grocery/dataset_v3/images/train/030475.jpg'\n",
      "Permission denied: /data/detection/grocery/dataset_v3/images/train/030482.jpg - [Errno 13] Permission denied: '/data/detection/grocery/dataset_v3/images/train/030482.jpg'\n",
      "Permission denied: /data/detection/grocery/dataset_v3/images/train/030466.jpg - [Errno 13] Permission denied: '/data/detection/grocery/dataset_v3/images/train/030466.jpg'\n",
      "Permission denied: /data/detection/grocery/dataset_v3/images/train/030416.jpg - [Errno 13] Permission denied: '/data/detection/grocery/dataset_v3/images/train/030416.jpg'\n",
      "Permission denied: /data/detection/grocery/dataset_v3/images/train/030447.jpg - [Errno 13] Permission denied: '/data/detection/grocery/dataset_v3/images/train/030447.jpg'\n",
      "Permission denied: /data/detection/grocery/dataset_v3/images/train/030502.jpg - [Errno 13] Permission denied: '/data/detection/grocery/dataset_v3/images/train/030502.jpg'\n",
      "Permission denied: /data/detection/grocery/dataset_v3/images/train/030500.jpg - [Errno 13] Permission denied: '/data/detection/grocery/dataset_v3/images/train/030500.jpg'\n",
      "Permission denied: /data/detection/grocery/dataset_v3/images/train/030418.jpg - [Errno 13] Permission denied: '/data/detection/grocery/dataset_v3/images/train/030418.jpg'\n",
      "Permission denied: /data/detection/grocery/dataset_v3/images/train/030361.jpg - [Errno 13] Permission denied: '/data/detection/grocery/dataset_v3/images/train/030361.jpg'\n",
      "Permission denied: /data/detection/grocery/dataset_v3/images/train/030443.jpg - [Errno 13] Permission denied: '/data/detection/grocery/dataset_v3/images/train/030443.jpg'\n",
      "Permission denied: /data/detection/grocery/dataset_v3/images/train/030395.jpg - [Errno 13] Permission denied: '/data/detection/grocery/dataset_v3/images/train/030395.jpg'\n",
      "Permission denied: /data/detection/grocery/dataset_v3/images/train/030421.jpg - [Errno 13] Permission denied: '/data/detection/grocery/dataset_v3/images/train/030421.jpg'\n",
      "Permission denied: /data/detection/grocery/dataset_v3/images/train/030425.jpg - [Errno 13] Permission denied: '/data/detection/grocery/dataset_v3/images/train/030425.jpg'\n",
      "Permission denied: /data/detection/grocery/dataset_v3/images/train/030495.jpg - [Errno 13] Permission denied: '/data/detection/grocery/dataset_v3/images/train/030495.jpg'\n",
      "Permission denied: /data/detection/grocery/dataset_v3/images/train/030474.jpg - [Errno 13] Permission denied: '/data/detection/grocery/dataset_v3/images/train/030474.jpg'\n",
      "Permission denied: /data/detection/grocery/dataset_v3/images/train/030448.jpg - [Errno 13] Permission denied: '/data/detection/grocery/dataset_v3/images/train/030448.jpg'\n",
      "Permission denied: /data/detection/grocery/dataset_v3/images/train/030354.jpg - [Errno 13] Permission denied: '/data/detection/grocery/dataset_v3/images/train/030354.jpg'\n",
      "Permission denied: /data/detection/grocery/dataset_v3/images/train/030492.jpg - [Errno 13] Permission denied: '/data/detection/grocery/dataset_v3/images/train/030492.jpg'\n",
      "Permission denied: /data/detection/grocery/dataset_v3/images/train/030488.jpg - [Errno 13] Permission denied: '/data/detection/grocery/dataset_v3/images/train/030488.jpg'\n",
      "Images copied successfully, with permission denied files skipped.\n"
     ]
    }
   ],
   "source": [
    "# Define source and destination directories\n",
    "source_dir = '/data/detection/grocery/dataset_v3/images/train'\n",
    "destination_dir = '/data/students/mary/mlops-exercises/ME6/dataset/train/images'\n",
    "\n",
    "# Create destination directory if it doesn't exist\n",
    "os.makedirs(destination_dir, exist_ok=True)\n",
    "\n",
    "# Iterate through files in the source directory\n",
    "for filename in os.listdir(source_dir):\n",
    "    # Check if the file is an image (you can add more extensions if needed)\n",
    "    if filename.endswith(('.png', '.jpg', '.jpeg', '.gif', '.bmp')):\n",
    "        # Construct full file path\n",
    "        source_file = os.path.join(source_dir, filename)\n",
    "        destination_file = os.path.join(destination_dir, filename)\n",
    "        \n",
    "        try:\n",
    "            # Copy the file\n",
    "            shutil.copy2(source_file, destination_file)\n",
    "        except PermissionError as e:\n",
    "            # Print the filename and the reason for permission denied\n",
    "            print(f\"Permission denied: {source_file} - {e}\")\n",
    "\n",
    "print(\"Images copied successfully, with permission denied files skipped.\")"
   ]
  },
  {
   "cell_type": "code",
   "execution_count": 3,
   "metadata": {},
   "outputs": [
    {
     "name": "stdout",
     "output_type": "stream",
     "text": [
      "Images copied successfully, with permission denied files skipped.\n"
     ]
    }
   ],
   "source": [
    "# Define source and destination directories\n",
    "source_dir = '/data/students/mary/mlops-exercises/ME5/dataset/train/images'\n",
    "destination_dir = '/data/students/mary/mlops-exercises/ME6/dataset/train/images'\n",
    "\n",
    "# Create destination directory if it doesn't exist\n",
    "os.makedirs(destination_dir, exist_ok=True)\n",
    "\n",
    "# Iterate through files in the source directory\n",
    "for filename in os.listdir(source_dir):\n",
    "    # Check if the file is an image (you can add more extensions if needed)\n",
    "    if filename.endswith(('.png', '.jpg', '.jpeg', '.gif', '.bmp')):\n",
    "        # Construct full file path\n",
    "        source_file = os.path.join(source_dir, filename)\n",
    "        destination_file = os.path.join(destination_dir, filename)\n",
    "        \n",
    "        try:\n",
    "            # Copy the file\n",
    "            shutil.copy2(source_file, destination_file)\n",
    "        except PermissionError as e:\n",
    "            # Print the filename and the reason for permission denied\n",
    "            print(f\"Permission denied: {source_file} - {e}\")\n",
    "\n",
    "print(\"Images copied successfully, with permission denied files skipped.\")"
   ]
  },
  {
   "cell_type": "code",
   "execution_count": 8,
   "metadata": {},
   "outputs": [
    {
     "name": "stdout",
     "output_type": "stream",
     "text": [
      "Permission denied: /data/detection/grocery/dataset_v3/images/val/030483.jpg - Permission denied (Errno 13)\n",
      "Permission denied: /data/detection/grocery/dataset_v3/images/val/030387.jpg - Permission denied (Errno 13)\n",
      "Permission denied: /data/detection/grocery/dataset_v3/images/val/030459.jpg - Permission denied (Errno 13)\n",
      "Permission denied: /data/detection/grocery/dataset_v3/images/val/030450.jpg - Permission denied (Errno 13)\n",
      "Permission denied: /data/detection/grocery/dataset_v3/images/val/030364.jpg - Permission denied (Errno 13)\n",
      "Permission denied: /data/detection/grocery/dataset_v3/images/val/030444.jpg - Permission denied (Errno 13)\n",
      "Permission denied: /data/detection/grocery/dataset_v3/images/val/030397.jpg - Permission denied (Errno 13)\n",
      "Permission denied: /data/detection/grocery/dataset_v3/images/val/030423.jpg - Permission denied (Errno 13)\n",
      "Permission denied: /data/detection/grocery/dataset_v3/images/val/030410.jpg - Permission denied (Errno 13)\n",
      "Permission denied: /data/detection/grocery/dataset_v3/images/val/030353.jpg - Permission denied (Errno 13)\n",
      "Permission denied: /data/detection/grocery/dataset_v3/images/val/030458.jpg - Permission denied (Errno 13)\n",
      "Permission denied: /data/detection/grocery/dataset_v3/images/val/030360.jpg - Permission denied (Errno 13)\n",
      "Permission denied: /data/detection/grocery/dataset_v3/images/val/030501.jpg - Permission denied (Errno 13)\n",
      "Permission denied: /data/detection/grocery/dataset_v3/images/val/030393.jpg - Permission denied (Errno 13)\n",
      "Permission denied: /data/detection/grocery/dataset_v3/images/val/030494.jpg - Permission denied (Errno 13)\n",
      "Images copied successfully, with permission denied files skipped.\n"
     ]
    }
   ],
   "source": [
    "# Define source and destination directories\n",
    "source_dir = '/data/detection/grocery/dataset_v3/images/val'\n",
    "destination_dir = '/data/students/mary/mlops-exercises/ME6/dataset/val/images'\n",
    "\n",
    "# Create destination directory if it doesn't exist\n",
    "os.makedirs(destination_dir, exist_ok=True)\n",
    "\n",
    "# Iterate through files in the source directory\n",
    "for filename in os.listdir(source_dir):\n",
    "    # Check if the file is an image (you can add more extensions if needed)\n",
    "    if filename.endswith(('.png', '.jpg', '.jpeg', '.gif', '.bmp')):\n",
    "        # Construct full file path\n",
    "        source_file = os.path.join(source_dir, filename)\n",
    "        destination_file = os.path.join(destination_dir, filename)\n",
    "        \n",
    "        try:\n",
    "            # Copy the file\n",
    "            shutil.copy2(source_file, destination_file)\n",
    "        except PermissionError as e:\n",
    "            # Print the filename and the reason for permission denied\n",
    "            print(f\"Permission denied: {source_file} - {e.strerror} (Errno {e.errno})\")\n",
    "\n",
    "print(\"Images copied successfully, with permission denied files skipped.\")"
   ]
  },
  {
   "cell_type": "code",
   "execution_count": 4,
   "metadata": {},
   "outputs": [
    {
     "name": "stdout",
     "output_type": "stream",
     "text": [
      "Images copied successfully, with permission denied files skipped.\n"
     ]
    }
   ],
   "source": [
    "# Define source and destination directories\n",
    "source_dir = '/data/students/mary/mlops-exercises/ME5/dataset/val/images'\n",
    "destination_dir = '/data/students/mary/mlops-exercises/ME6/dataset/val/images'\n",
    "\n",
    "# Create destination directory if it doesn't exist\n",
    "os.makedirs(destination_dir, exist_ok=True)\n",
    "\n",
    "# Iterate through files in the source directory\n",
    "for filename in os.listdir(source_dir):\n",
    "    # Check if the file is an image (you can add more extensions if needed)\n",
    "    if filename.endswith(('.png', '.jpg', '.jpeg', '.gif', '.bmp')):\n",
    "        # Construct full file path\n",
    "        source_file = os.path.join(source_dir, filename)\n",
    "        destination_file = os.path.join(destination_dir, filename)\n",
    "        \n",
    "        try:\n",
    "            # Copy the file\n",
    "            shutil.copy2(source_file, destination_file)\n",
    "        except PermissionError as e:\n",
    "            # Print the filename and the reason for permission denied\n",
    "            print(f\"Permission denied: {source_file} - {e.strerror} (Errno {e.errno})\")\n",
    "\n",
    "print(\"Images copied successfully, with permission denied files skipped.\")"
   ]
  },
  {
   "cell_type": "markdown",
   "metadata": {},
   "source": [
    "Copy json files"
   ]
  },
  {
   "cell_type": "code",
   "execution_count": 1,
   "metadata": {},
   "outputs": [
    {
     "name": "stdout",
     "output_type": "stream",
     "text": [
      "JSON files copied successfully, with permission denied files skipped.\n"
     ]
    }
   ],
   "source": [
    "import os\n",
    "import shutil\n",
    "\n",
    "# Define source and destination directories\n",
    "source_dir = '/data/detection/grocery/dataset_v3/annotations'\n",
    "destination_dir = '/data/students/mary/mlops-exercises/ME6/dataset'\n",
    "\n",
    "# Create destination directory if it doesn't exist\n",
    "os.makedirs(destination_dir, exist_ok=True)\n",
    "\n",
    "# Iterate through files in the source directory\n",
    "for filename in os.listdir(source_dir):\n",
    "    # Check if the file is a JSON file\n",
    "    if filename.endswith('.json'):\n",
    "        # Construct full file path\n",
    "        source_file = os.path.join(source_dir, filename)\n",
    "        destination_file = os.path.join(destination_dir, filename)\n",
    "        \n",
    "        try:\n",
    "            # Copy the file\n",
    "            shutil.copy2(source_file, destination_file)\n",
    "        except PermissionError as e:\n",
    "            # Print the filename and the reason for permission denied\n",
    "            print(f\"Permission denied: {source_file} - {e.strerror} (Errno {e.errno})\")\n",
    "\n",
    "print(\"JSON files copied successfully, with permission denied files skipped.\")"
   ]
  },
  {
   "cell_type": "markdown",
   "metadata": {},
   "source": [
    "Copy txt files"
   ]
  },
  {
   "cell_type": "code",
   "execution_count": 6,
   "metadata": {},
   "outputs": [
    {
     "name": "stdout",
     "output_type": "stream",
     "text": [
      "Txt files copied successfully, with permission denied files skipped.\n"
     ]
    }
   ],
   "source": [
    "import os\n",
    "import shutil\n",
    "\n",
    "# Define source and destination directories\n",
    "source_dir = '/data/students/mary/mlops-exercises/ME5/dataset/train/labels'\n",
    "destination_dir = '/data/students/mary/mlops-exercises/ME6/dataset/train/labels'\n",
    "\n",
    "# Create destination directory if it doesn't exist\n",
    "os.makedirs(destination_dir, exist_ok=True)\n",
    "\n",
    "# Iterate through files in the source directory\n",
    "for filename in os.listdir(source_dir):\n",
    "    # Check if the file is a JSON file\n",
    "    if filename.endswith('.txt'):\n",
    "        # Construct full file path\n",
    "        source_file = os.path.join(source_dir, filename)\n",
    "        destination_file = os.path.join(destination_dir, filename)\n",
    "        \n",
    "        try:\n",
    "            # Copy the file\n",
    "            shutil.copy2(source_file, destination_file)\n",
    "        except PermissionError as e:\n",
    "            # Print the filename and the reason for permission denied\n",
    "            print(f\"Permission denied: {source_file} - {e.strerror} (Errno {e.errno})\")\n",
    "\n",
    "print(\"Txt files copied successfully, with permission denied files skipped.\")"
   ]
  },
  {
   "cell_type": "code",
   "execution_count": 7,
   "metadata": {},
   "outputs": [
    {
     "name": "stdout",
     "output_type": "stream",
     "text": [
      "Txt files copied successfully, with permission denied files skipped.\n"
     ]
    }
   ],
   "source": [
    "import os\n",
    "import shutil\n",
    "\n",
    "# Define source and destination directories\n",
    "source_dir = '/data/students/mary/mlops-exercises/ME5/dataset/val/labels'\n",
    "destination_dir = '/data/students/mary/mlops-exercises/ME6/dataset/val/labels'\n",
    "\n",
    "# Create destination directory if it doesn't exist\n",
    "os.makedirs(destination_dir, exist_ok=True)\n",
    "\n",
    "# Iterate through files in the source directory\n",
    "for filename in os.listdir(source_dir):\n",
    "    # Check if the file is a JSON file\n",
    "    if filename.endswith('.txt'):\n",
    "        # Construct full file path\n",
    "        source_file = os.path.join(source_dir, filename)\n",
    "        destination_file = os.path.join(destination_dir, filename)\n",
    "        \n",
    "        try:\n",
    "            # Copy the file\n",
    "            shutil.copy2(source_file, destination_file)\n",
    "        except PermissionError as e:\n",
    "            # Print the filename and the reason for permission denied\n",
    "            print(f\"Permission denied: {source_file} - {e.strerror} (Errno {e.errno})\")\n",
    "\n",
    "print(\"Txt files copied successfully, with permission denied files skipped.\")"
   ]
  },
  {
   "cell_type": "code",
   "execution_count": null,
   "metadata": {},
   "outputs": [],
   "source": []
  }
 ],
 "metadata": {
  "kernelspec": {
   "display_name": "AI231_ME6",
   "language": "python",
   "name": "python3"
  },
  "language_info": {
   "codemirror_mode": {
    "name": "ipython",
    "version": 3
   },
   "file_extension": ".py",
   "mimetype": "text/x-python",
   "name": "python",
   "nbconvert_exporter": "python",
   "pygments_lexer": "ipython3",
   "version": "3.11.10"
  }
 },
 "nbformat": 4,
 "nbformat_minor": 2
}
